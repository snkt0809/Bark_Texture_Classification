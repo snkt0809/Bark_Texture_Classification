{
 "cells": [
  {
   "cell_type": "markdown",
   "id": "ded85adb",
   "metadata": {},
   "source": [
    "Dataset used: https://www.kaggle.com/datasets/saurabhshahane/barkvn50\n",
    "\n",
    "This dataset contains 5578 images and 50 categories of bark textures. Our model will be classifying this in the appropriate categories.\n",
    "\n",
    "Initially we take the \"BarkVN-50_mendeley\" folder inside the \"BarkVN-50\", in which there are 50 folders with each having images in it for each category of bark texture, and move it to our working directory.\n",
    "\n",
    "First we import all the necessary libraries."
   ]
  },
  {
   "cell_type": "code",
   "execution_count": 2,
   "id": "91271ce8",
   "metadata": {},
   "outputs": [],
   "source": [
    "import os \n",
    "import shutil\n",
    "import numpy as np \n",
    "import matplotlib.pyplot as plt \n",
    "import tensorflow as tf\n",
    "\n",
    "import random"
   ]
  },
  {
   "cell_type": "markdown",
   "id": "b5be1841",
   "metadata": {},
   "source": [
    "I have now renamed our \"BarkVN-50_mendeley\" to \"BarkDataset\". Once that is done, I see how many folders we have in total. This is done to check if .DS_store exists or not."
   ]
  },
  {
   "cell_type": "code",
   "execution_count": 11,
   "id": "f5250a48",
   "metadata": {},
   "outputs": [
    {
     "data": {
      "text/plain": [
       "50"
      ]
     },
     "execution_count": 11,
     "metadata": {},
     "output_type": "execute_result"
    }
   ],
   "source": [
    "all_categories = os.listdir(\"BarkDataset/\")\n",
    "len(all_categories)"
   ]
  },
  {
   "cell_type": "markdown",
   "id": "9becc6bf",
   "metadata": {},
   "source": [
    "In order to maintain uniformity in the file names of the images and for avoiding images with same names, I have renamed all of the files as category1.JPG, catergory2.JPG, category3.JPG and so on. For example all the images in Acacia folder are renamed as Acacia1.JPG, Acacia2.JPG, Acacia3.JPG and so on."
   ]
  },
  {
   "cell_type": "code",
   "execution_count": 12,
   "id": "73bc71b5",
   "metadata": {},
   "outputs": [],
   "source": [
    "\n",
    "\n",
    "for category in sorted(all_categories):\n",
    "    all_images = os.listdir(\"BarkDataset/\" + category + \"/\" )\n",
    "    i = 1\n",
    "    for image in all_images:\n",
    "        os.rename('BarkDataset/'+ category + \"/\" + image , 'BarkDataset/' + category + \"/\" + category + str(i) + \".JPG\")\n",
    "        i += 1"
   ]
  },
  {
   "cell_type": "markdown",
   "id": "85de3dad",
   "metadata": {},
   "source": [
    "## Train-Test split\n",
    "I have decided to split the dataset into a 80:20 ratio where I will use 80% of the dataset for training and the remaining 20% will be used for testing."
   ]
  },
  {
   "cell_type": "markdown",
   "id": "92d9aa15",
   "metadata": {},
   "source": [
    "## Creating the training dataset\n",
    "I have created a train folder in my working directory. The training data of a folder will be kept under its respective folder name. For example the data for Acacia would be kept under train/Acacia/."
   ]
  },
  {
   "cell_type": "code",
   "execution_count": 14,
   "id": "9b108c9e",
   "metadata": {},
   "outputs": [],
   "source": [
    "os.makedirs(\"train\")\n",
    "for category in sorted(all_categories):\n",
    "    os.makedirs(\"train/\" + category )\n",
    "    all_images = os.listdir(\"BarkDataset/\" + category + \"/\")\n",
    "    for image in random.sample(all_images, int(0.8 * len(all_images))):\n",
    "        shutil.move(\"BarkDataset/\" + category + \"/\" + image, \"train/\" + category + \"/\")"
   ]
  },
  {
   "cell_type": "markdown",
   "id": "28af0096",
   "metadata": {},
   "source": [
    "## Creating test dataset \n",
    "Similar to the train dataset, I have created a test folder. The test data of a given category will be kept under the folder name of that category. For example test data for Acacia will be under test/Acacia/."
   ]
  },
  {
   "cell_type": "code",
   "execution_count": 15,
   "id": "e3d08dbd",
   "metadata": {},
   "outputs": [],
   "source": [
    "os.makedirs(\"test\")\n",
    "for category in sorted(all_categories):\n",
    "    os.makedirs('test/' + category)\n",
    "    all_images = os.listdir(\"BarkDataset/\" + category + \"/\")\n",
    "    for image in all_images:\n",
    "        shutil.move(\"BarkDataset/\" + category + \"/\" + image, \"test/\" + category + \"/\")"
   ]
  },
  {
   "cell_type": "markdown",
   "id": "fb500717",
   "metadata": {},
   "source": [
    "### Creating a base model \n",
    "\n",
    "I have rescaled the images using ImageDataGenerator of tensorflow.keras library and split the dataset into training data and test data.\n",
    "\n",
    "I have created various layers for our CV model and accuracy as a metric. After defining and compiling the model, I have trained it for 5 epochs to check the performance."
   ]
  },
  {
   "cell_type": "code",
   "execution_count": 16,
   "id": "52879002",
   "metadata": {},
   "outputs": [
    {
     "name": "stdout",
     "output_type": "stream",
     "text": [
      "Found 4444 images belonging to 50 classes.\n",
      "Found 1134 images belonging to 50 classes.\n",
      "Metal device set to: Apple M1\n"
     ]
    },
    {
     "name": "stderr",
     "output_type": "stream",
     "text": [
      "2022-09-27 22:56:36.043053: I tensorflow/core/common_runtime/pluggable_device/pluggable_device_factory.cc:306] Could not identify NUMA node of platform GPU ID 0, defaulting to 0. Your kernel may not have been built with NUMA support.\n",
      "2022-09-27 22:56:36.043528: I tensorflow/core/common_runtime/pluggable_device/pluggable_device_factory.cc:272] Created TensorFlow device (/job:localhost/replica:0/task:0/device:GPU:0 with 0 MB memory) -> physical PluggableDevice (device: 0, name: METAL, pci bus id: <undefined>)\n"
     ]
    },
    {
     "name": "stdout",
     "output_type": "stream",
     "text": [
      "Epoch 1/5\n"
     ]
    },
    {
     "name": "stderr",
     "output_type": "stream",
     "text": [
      "2022-09-27 22:56:36.305213: W tensorflow/core/platform/profile_utils/cpu_utils.cc:128] Failed to get CPU frequency: 0 Hz\n",
      "2022-09-27 22:56:36.555756: I tensorflow/core/grappler/optimizers/custom_graph_optimizer_registry.cc:114] Plugin optimizer for device_type GPU is enabled.\n"
     ]
    },
    {
     "name": "stdout",
     "output_type": "stream",
     "text": [
      "139/139 [==============================] - ETA: 0s - loss: 3.6881 - accuracy: 0.0709"
     ]
    },
    {
     "name": "stderr",
     "output_type": "stream",
     "text": [
      "2022-09-27 22:56:54.600602: I tensorflow/core/grappler/optimizers/custom_graph_optimizer_registry.cc:114] Plugin optimizer for device_type GPU is enabled.\n"
     ]
    },
    {
     "name": "stdout",
     "output_type": "stream",
     "text": [
      "139/139 [==============================] - 20s 141ms/step - loss: 3.6881 - accuracy: 0.0709 - val_loss: 3.3962 - val_accuracy: 0.1578\n",
      "Epoch 2/5\n",
      "139/139 [==============================] - 19s 136ms/step - loss: 2.4843 - accuracy: 0.3729 - val_loss: 2.5521 - val_accuracy: 0.3236\n",
      "Epoch 3/5\n",
      "139/139 [==============================] - 19s 138ms/step - loss: 0.7415 - accuracy: 0.8069 - val_loss: 2.7209 - val_accuracy: 0.3616\n",
      "Epoch 4/5\n",
      "139/139 [==============================] - 19s 137ms/step - loss: 0.1920 - accuracy: 0.9599 - val_loss: 3.4137 - val_accuracy: 0.3854\n",
      "Epoch 5/5\n",
      "139/139 [==============================] - 19s 138ms/step - loss: 0.0742 - accuracy: 0.9910 - val_loss: 3.9108 - val_accuracy: 0.3810\n"
     ]
    }
   ],
   "source": [
    "from tensorflow.keras.preprocessing.image import ImageDataGenerator\n",
    "\n",
    "# Set the seed\n",
    "tf.random.set_seed(42)\n",
    "\n",
    "# Preprocess data (get all of the pixel values between 1 and 0, also called scaling/normalization)\n",
    "train_datagen = ImageDataGenerator(rescale=1./255)\n",
    "test_datagen = ImageDataGenerator(rescale=1./255)\n",
    "\n",
    "# Setup the train and test directories\n",
    "train_dir = \"train/\"\n",
    "test_dir = \"test/\"\n",
    "\n",
    "# Import data from directories and turn it into batches\n",
    "train_data = train_datagen.flow_from_directory(train_dir,\n",
    "                                               batch_size=32, # number of images to process at a time \n",
    "                                               target_size=(224, 224), # convert all images to be 224 x 224\n",
    "                                               class_mode=\"categorical\", # type of problem we're working on\n",
    "                                               seed=42)\n",
    "\n",
    "test_data = test_datagen.flow_from_directory(test_dir,\n",
    "                                               batch_size=32,\n",
    "                                               target_size=(224, 224),\n",
    "                                               class_mode=\"categorical\",\n",
    "                                               seed=42)\n",
    "\n",
    "# Create a CNN model (same as Tiny VGG - https://poloclub.github.io/cnn-explainer/)\n",
    "model_1 = tf.keras.models.Sequential([\n",
    "  tf.keras.layers.Conv2D(filters=10, \n",
    "                         kernel_size=3, # can also be (3, 3)\n",
    "                         activation=\"relu\", \n",
    "                         input_shape=(224, 224, 3)), # first layer specifies input shape (height, width, colour channels)\n",
    "  tf.keras.layers.Conv2D(10, 3, activation=\"relu\"),\n",
    "  tf.keras.layers.MaxPool2D(pool_size=2, # pool_size can also be (2, 2)\n",
    "                            padding=\"valid\"), # padding can also be 'same'\n",
    "  tf.keras.layers.Conv2D(10, 3, activation=\"relu\"),\n",
    "  tf.keras.layers.Conv2D(10, 3, activation=\"relu\"), # activation='relu' == tf.keras.layers.Activations(tf.nn.relu)\n",
    "  tf.keras.layers.MaxPool2D(2),\n",
    "  tf.keras.layers.Flatten(),\n",
    "  tf.keras.layers.Dense(50, activation=\"softmax\") # binary activation output\n",
    "])\n",
    "\n",
    "# Compile the model\n",
    "model_1.compile(loss=\"categorical_crossentropy\",\n",
    "              optimizer=tf.keras.optimizers.Adam(),\n",
    "                metrics=[\"accuracy\"])\n",
    "\n",
    "# Fit the model\n",
    "history_1 = model_1.fit(train_data,\n",
    "                        epochs=5,\n",
    "                        steps_per_epoch=len(train_data),\n",
    "                        validation_data=test_data,\n",
    "                        validation_steps=len(test_data))"
   ]
  },
  {
   "cell_type": "markdown",
   "id": "9c575358",
   "metadata": {},
   "source": [
    "### As we can see that our base model is overfitting even when trained for only 5 epochs. We will try regularization"
   ]
  },
  {
   "cell_type": "code",
   "execution_count": 18,
   "id": "7deb5aa9",
   "metadata": {},
   "outputs": [
    {
     "name": "stdout",
     "output_type": "stream",
     "text": [
      "Found 4444 images belonging to 50 classes.\n",
      "Found 1134 images belonging to 50 classes.\n",
      "Epoch 1/10\n"
     ]
    },
    {
     "name": "stderr",
     "output_type": "stream",
     "text": [
      "2022-09-27 23:02:38.200114: I tensorflow/core/grappler/optimizers/custom_graph_optimizer_registry.cc:114] Plugin optimizer for device_type GPU is enabled.\n"
     ]
    },
    {
     "name": "stdout",
     "output_type": "stream",
     "text": [
      "139/139 [==============================] - ETA: 0s - loss: 3.5933 - accuracy: 0.0900"
     ]
    },
    {
     "name": "stderr",
     "output_type": "stream",
     "text": [
      "2022-09-27 23:03:10.152198: I tensorflow/core/grappler/optimizers/custom_graph_optimizer_registry.cc:114] Plugin optimizer for device_type GPU is enabled.\n"
     ]
    },
    {
     "name": "stdout",
     "output_type": "stream",
     "text": [
      "139/139 [==============================] - 35s 245ms/step - loss: 3.5933 - accuracy: 0.0900 - val_loss: 3.1347 - val_accuracy: 0.1887\n",
      "Epoch 2/10\n",
      "139/139 [==============================] - 34s 241ms/step - loss: 2.8876 - accuracy: 0.2275 - val_loss: 2.7545 - val_accuracy: 0.2557\n",
      "Epoch 3/10\n",
      "139/139 [==============================] - 34s 246ms/step - loss: 2.5115 - accuracy: 0.3171 - val_loss: 2.4405 - val_accuracy: 0.3430\n",
      "Epoch 4/10\n",
      "139/139 [==============================] - 37s 268ms/step - loss: 2.2514 - accuracy: 0.3733 - val_loss: 2.0500 - val_accuracy: 0.4665\n",
      "Epoch 5/10\n",
      "139/139 [==============================] - 39s 282ms/step - loss: 2.0622 - accuracy: 0.4176 - val_loss: 1.9221 - val_accuracy: 0.4921\n",
      "Epoch 6/10\n",
      "139/139 [==============================] - 39s 279ms/step - loss: 1.9219 - accuracy: 0.4516 - val_loss: 1.8577 - val_accuracy: 0.5203\n",
      "Epoch 7/10\n",
      "139/139 [==============================] - 40s 288ms/step - loss: 1.8371 - accuracy: 0.4782 - val_loss: 1.8053 - val_accuracy: 0.4921\n",
      "Epoch 8/10\n",
      "139/139 [==============================] - 41s 292ms/step - loss: 1.7368 - accuracy: 0.5140 - val_loss: 1.6428 - val_accuracy: 0.5661\n",
      "Epoch 9/10\n",
      "139/139 [==============================] - 40s 287ms/step - loss: 1.6733 - accuracy: 0.5232 - val_loss: 1.5999 - val_accuracy: 0.5538\n",
      "Epoch 10/10\n",
      "139/139 [==============================] - 42s 304ms/step - loss: 1.6058 - accuracy: 0.5421 - val_loss: 1.4497 - val_accuracy: 0.6217\n"
     ]
    }
   ],
   "source": [
    "from tensorflow.keras.preprocessing.image import ImageDataGenerator\n",
    "\n",
    "train_dir = 'train/'\n",
    "test_dir = 'test/'\n",
    "\n",
    "train_datagen_augmented = ImageDataGenerator(rescale = 1./255, \n",
    "                                   horizontal_flip = True, \n",
    "                                   vertical_flip = True,\n",
    "                                   height_shift_range = 0.2, \n",
    "                                   width_shift_range = 0.2)\n",
    "test_datagen = ImageDataGenerator(rescale = 1./255)\n",
    "\n",
    "train_data_aug = train_datagen_augmented.flow_from_directory(train_dir, \n",
    "                                                  batch_size = 32, \n",
    "                                                  target_size = (224, 224), \n",
    "                                                  class_mode = 'categorical', \n",
    "                                                  seed = 42)\n",
    "test_data = test_datagen.flow_from_directory(test_dir, \n",
    "                                            batch_size = 32, \n",
    "                                            target_size = (224, 224), \n",
    "                                            class_mode = 'categorical', \n",
    "                                            seed = 42)\n",
    "\n",
    "model_2 = tf.keras.models.Sequential([\n",
    "    tf.keras.layers.Conv2D(filters = 10, kernel_size = 5, input_shape = (224, 224, 3), activation = 'relu'), \n",
    "    tf.keras.layers.Conv2D(filters = 10, kernel_size = 5, activation = 'relu'), \n",
    "    tf.keras.layers.MaxPool2D(2, padding = 'valid'), \n",
    "    tf.keras.layers.Dropout(0.2),\n",
    "    tf.keras.layers.MaxPool2D(2, padding = 'valid'),\n",
    "    tf.keras.layers.Conv2D(filters = 10, kernel_size = 3, activation = 'relu'), \n",
    "    tf.keras.layers.MaxPool2D(2, padding = 'valid'),\n",
    "    tf.keras.layers.Dropout(0.2), \n",
    "    tf.keras.layers.MaxPool2D(2, padding = 'valid'),\n",
    "    tf.keras.layers.Flatten(), \n",
    "    tf.keras.layers.Dense(50, activation = 'softmax')\n",
    "])\n",
    "\n",
    "model_2.compile(loss = 'categorical_crossentropy', \n",
    "               optimizer = tf.keras.optimizers.Adam(), \n",
    "               metrics = ['accuracy'])\n",
    "\n",
    "history_2= model_2.fit(train_data_aug, \n",
    "                       epochs = 10, \n",
    "                       steps_per_epoch = len(train_data_aug), \n",
    "                       validation_data = test_data, \n",
    "                       validation_steps = len(test_data))"
   ]
  },
  {
   "cell_type": "markdown",
   "id": "bd7a3911",
   "metadata": {},
   "source": [
    "### I will be using resnet model to implement transfer learning for this dataset."
   ]
  },
  {
   "cell_type": "code",
   "execution_count": 19,
   "id": "c8b5783f",
   "metadata": {},
   "outputs": [],
   "source": [
    "efficient_net_url = \"https://tfhub.dev/tensorflow/efficientnet/b0/feature-vector/1\"\n",
    "\n",
    "resnet_url = \"https://tfhub.dev/google/imagenet/resnet_v2_50/feature_vector/5\""
   ]
  },
  {
   "cell_type": "markdown",
   "id": "f4168fe0",
   "metadata": {},
   "source": [
    "### I have defined a function for my transfer learning model"
   ]
  },
  {
   "cell_type": "code",
   "execution_count": 20,
   "id": "147629e9",
   "metadata": {},
   "outputs": [],
   "source": [
    "import tensorflow_hub as hub\n",
    "\n",
    "def create_model(model_url, num_classes = 50):\n",
    "    feature_extractor_layer = hub.KerasLayer(model_url, \n",
    "                                            trainable = False, \n",
    "                                            input_shape = (224, 224, 3))\n",
    "    model = tf.keras.Sequential([\n",
    "        feature_extractor_layer, \n",
    "        tf.keras.layers.Dropout(0.4),\n",
    "        tf.keras.layers.Dense(num_classes, activation = 'softmax')\n",
    "    ])\n",
    "    return model\n"
   ]
  },
  {
   "cell_type": "markdown",
   "id": "4bcd0dab",
   "metadata": {},
   "source": [
    "### I have passed the URL to the above defined function and fit the data. We have used a dropout of 40% before the prediction layer and train the model it for 15 epochs."
   ]
  },
  {
   "cell_type": "code",
   "execution_count": 13,
   "id": "3431c69b",
   "metadata": {},
   "outputs": [
    {
     "name": "stdout",
     "output_type": "stream",
     "text": [
      "Epoch 1/15\n"
     ]
    },
    {
     "name": "stderr",
     "output_type": "stream",
     "text": [
      "2022-09-27 18:23:09.336611: I tensorflow/core/grappler/optimizers/custom_graph_optimizer_registry.cc:114] Plugin optimizer for device_type GPU is enabled.\n"
     ]
    },
    {
     "name": "stdout",
     "output_type": "stream",
     "text": [
      "139/139 [==============================] - ETA: 0s - loss: 1.9974 - accuracy: 0.5052"
     ]
    },
    {
     "name": "stderr",
     "output_type": "stream",
     "text": [
      "2022-09-27 18:23:54.520496: I tensorflow/core/grappler/optimizers/custom_graph_optimizer_registry.cc:114] Plugin optimizer for device_type GPU is enabled.\n"
     ]
    },
    {
     "name": "stdout",
     "output_type": "stream",
     "text": [
      "139/139 [==============================] - 57s 404ms/step - loss: 1.9974 - accuracy: 0.5052 - val_loss: 0.9263 - val_accuracy: 0.8042\n",
      "Epoch 2/15\n",
      "139/139 [==============================] - 62s 448ms/step - loss: 0.7400 - accuracy: 0.8234 - val_loss: 0.6452 - val_accuracy: 0.8616\n",
      "Epoch 3/15\n",
      "139/139 [==============================] - 73s 526ms/step - loss: 0.4980 - accuracy: 0.8895 - val_loss: 0.5427 - val_accuracy: 0.8713\n",
      "Epoch 4/15\n",
      "139/139 [==============================] - 77s 553ms/step - loss: 0.3757 - accuracy: 0.9183 - val_loss: 0.4753 - val_accuracy: 0.8880\n",
      "Epoch 5/15\n",
      "139/139 [==============================] - 82s 588ms/step - loss: 0.2884 - accuracy: 0.9464 - val_loss: 0.4351 - val_accuracy: 0.9048\n",
      "Epoch 6/15\n",
      "139/139 [==============================] - 81s 583ms/step - loss: 0.2417 - accuracy: 0.9525 - val_loss: 0.4097 - val_accuracy: 0.9101\n",
      "Epoch 7/15\n",
      "139/139 [==============================] - 76s 545ms/step - loss: 0.2020 - accuracy: 0.9631 - val_loss: 0.3930 - val_accuracy: 0.9127\n",
      "Epoch 8/15\n",
      "139/139 [==============================] - 82s 591ms/step - loss: 0.1767 - accuracy: 0.9698 - val_loss: 0.3884 - val_accuracy: 0.9127\n",
      "Epoch 9/15\n",
      "139/139 [==============================] - 84s 603ms/step - loss: 0.1612 - accuracy: 0.9705 - val_loss: 0.3661 - val_accuracy: 0.9215\n",
      "Epoch 10/15\n",
      "139/139 [==============================] - 81s 586ms/step - loss: 0.1449 - accuracy: 0.9755 - val_loss: 0.3583 - val_accuracy: 0.9206\n",
      "Epoch 11/15\n",
      "139/139 [==============================] - 85s 614ms/step - loss: 0.1223 - accuracy: 0.9806 - val_loss: 0.3576 - val_accuracy: 0.9189\n",
      "Epoch 12/15\n",
      "139/139 [==============================] - 80s 577ms/step - loss: 0.1150 - accuracy: 0.9809 - val_loss: 0.3476 - val_accuracy: 0.9215\n",
      "Epoch 13/15\n",
      "139/139 [==============================] - 79s 566ms/step - loss: 0.1003 - accuracy: 0.9867 - val_loss: 0.3484 - val_accuracy: 0.9215\n",
      "Epoch 14/15\n",
      "139/139 [==============================] - 79s 566ms/step - loss: 0.0937 - accuracy: 0.9854 - val_loss: 0.3430 - val_accuracy: 0.9180\n",
      "Epoch 15/15\n",
      "139/139 [==============================] - 75s 541ms/step - loss: 0.0883 - accuracy: 0.9863 - val_loss: 0.3370 - val_accuracy: 0.9233\n"
     ]
    }
   ],
   "source": [
    "resnet_model = create_model(resnet_v2_50_url)\n",
    "\n",
    "resnet_model.compile(loss = 'categorical_crossentropy', \n",
    "                    optimizer = tf.keras.optimizers.Adam(), \n",
    "                    metrics = ['accuracy'])\n",
    "\n",
    "history_resnet_model= resnet_model.fit(train_data, \n",
    "                                   epochs = 15, \n",
    "                                   steps_per_epoch = len(train_data), \n",
    "                                   validation_data = test_data, \n",
    "                                   validation_steps = len(test_data))"
   ]
  },
  {
   "cell_type": "markdown",
   "id": "3d98ad99",
   "metadata": {},
   "source": [
    "## Plotting the loss curves"
   ]
  },
  {
   "cell_type": "code",
   "execution_count": 14,
   "id": "e93ac4d8",
   "metadata": {},
   "outputs": [],
   "source": [
    "def plot_curves(history):\n",
    "  loss = history.history['loss']\n",
    "  val_loss = history.history['val_loss']\n",
    "  epochs = range(len(history.history['loss']))\n",
    "\n",
    "\n",
    "  plt.figure()\n",
    "  plt.plot(epochs, loss, label = 'training_loss')\n",
    "  plt.plot(epochs, val_loss, label = 'validation_loss')\n",
    "  plt.title(\"loss_curves\")\n",
    "  plt.legend()\n",
    "  plt.show()\n",
    "\n",
    "  accuracy = history.history['accuracy']\n",
    "  val_accuracy = history.history['val_accuracy']\n",
    "  \n",
    "  plt.figure()\n",
    "  plt.plot(epochs, accuracy, label = 'training_accuracy')\n",
    "  plt.plot(epochs, val_accuracy, label = 'validation_accuracy')\n",
    "  plt.title(\"accuracy_curves\")\n",
    "  plt.legend()\n",
    "  plt.show()"
   ]
  },
  {
   "cell_type": "code",
   "execution_count": 16,
   "id": "007f83b6",
   "metadata": {},
   "outputs": [
    {
     "data": {
      "image/png": "[encoded data removed]",
      "text/plain": [
       "<Figure size 640x480 with 1 Axes>"
      ]
     },
     "metadata": {},
     "output_type": "display_data"
    },
    {
     "data": {
      "image/png": "[encoded data removed]",
      "text/plain": [
       "<Figure size 640x480 with 1 Axes>"
      ]
     },
     "metadata": {},
     "output_type": "display_data"
    }
   ],
   "source": [
    "plot_curves(history_resnet_model)"
   ]
  },
  {
   "cell_type": "markdown",
   "id": "19022b8d",
   "metadata": {},
   "source": [
    "### We have an accuracy of 98% for the training data and we have got a test accuracy of 92%. So this model is good enough for prediction on the bark dataset. "
   ]
  }
 ],
 "metadata": {
  "kernelspec": {
   "display_name": "Python 3.9.5 64-bit",
   "language": "python",
   "name": "python3"
  },
  "language_info": {
   "codemirror_mode": {
    "name": "ipython",
    "version": 3
   },
   "file_extension": ".py",
   "mimetype": "text/x-python",
   "name": "python",
   "nbconvert_exporter": "python",
   "pygments_lexer": "ipython3",
   "version": "3.9.5"
  },
  "vscode": {
   "interpreter": {
    "hash": "d7624b2ed988bffcd632af682376b3e89ace503518753e562b4d80d2ed4667b9"
   }
  }
 },
 "nbformat": 4,
 "nbformat_minor": 5
}
